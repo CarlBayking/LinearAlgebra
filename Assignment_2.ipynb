{
  "nbformat": 4,
  "nbformat_minor": 0,
  "metadata": {
    "colab": {
      "name": "Assignment#2.ipynb",
      "provenance": [],
      "collapsed_sections": [],
      "authorship_tag": "ABX9TyMCq5miqpSWzEuwQI0gI/mG",
      "include_colab_link": true
    },
    "kernelspec": {
      "name": "python3",
      "display_name": "Python 3"
    },
    "language_info": {
      "name": "python"
    }
  },
  "cells": [
    {
      "cell_type": "markdown",
      "metadata": {
        "id": "view-in-github",
        "colab_type": "text"
      },
      "source": [
        "<a href=\"https://colab.research.google.com/github/CarlBayking/LinearAlgebra/blob/main/Assignment_2.ipynb\" target=\"_parent\"><img src=\"https://colab.research.google.com/assets/colab-badge.svg\" alt=\"Open In Colab\"/></a>"
      ]
    },
    {
      "cell_type": "markdown",
      "metadata": {
        "id": "NG9YlHcRVhkj"
      },
      "source": [
        "# WELCOME TO PYTHON FUNDAMETALS\n",
        "In this module, we are going to establish our skills in Python programming.in this notebook we are going to cover:\n",
        "\n",
        "*   Variables and Data Types\n",
        "*   Operations\n",
        "*   Input and Output Operations\n",
        "*   Logic Control\n",
        "*   Iterables\n",
        "*   Functions"
      ]
    },
    {
      "cell_type": "markdown",
      "metadata": {
        "id": "u8A6La0DWlVv"
      },
      "source": [
        "## VARIABLES AND DATA TYPES\n",
        "Variables are anything that may vary, it is the memory location wherein the user stores its designated value. Data types on the other hand, is the attribute of data which which shows how the the program interpreter plan to use the said data."
      ]
    },
    {
      "cell_type": "code",
      "metadata": {
        "id": "rOYCdTE0Pj09"
      },
      "source": [
        "x = 1\n",
        "a, b = 3, -2"
      ],
      "execution_count": null,
      "outputs": []
    },
    {
      "cell_type": "code",
      "metadata": {
        "id": "nJcxKHDJX8hh",
        "colab": {
          "base_uri": "https://localhost:8080/"
        },
        "outputId": "cefa48c7-2ae0-4f79-eaa0-e26d4b2525fa"
      },
      "source": [
        "type(x)"
      ],
      "execution_count": null,
      "outputs": [
        {
          "output_type": "execute_result",
          "data": {
            "text/plain": [
              "int"
            ]
          },
          "metadata": {},
          "execution_count": 2
        }
      ]
    },
    {
      "cell_type": "code",
      "metadata": {
        "id": "kpZdedy8YOew",
        "colab": {
          "base_uri": "https://localhost:8080/"
        },
        "outputId": "4ee66ab9-d730-47a6-8109-dabc33d25245"
      },
      "source": [
        "y = 3.0\n",
        "type(y)"
      ],
      "execution_count": null,
      "outputs": [
        {
          "output_type": "execute_result",
          "data": {
            "text/plain": [
              "float"
            ]
          },
          "metadata": {},
          "execution_count": 3
        }
      ]
    },
    {
      "cell_type": "code",
      "metadata": {
        "id": "T1oqLj7-Yp24",
        "colab": {
          "base_uri": "https://localhost:8080/"
        },
        "outputId": "73972f23-4d0e-4a82-a352-5141b6bb3f69"
      },
      "source": [
        "x = float(x)\n",
        "type(x)"
      ],
      "execution_count": null,
      "outputs": [
        {
          "output_type": "execute_result",
          "data": {
            "text/plain": [
              "float"
            ]
          },
          "metadata": {},
          "execution_count": 4
        }
      ]
    },
    {
      "cell_type": "code",
      "metadata": {
        "id": "Xhayl8jQZMNm",
        "colab": {
          "base_uri": "https://localhost:8080/"
        },
        "outputId": "06e4e5dc-d6a4-4156-e694-5502efff6598"
      },
      "source": [
        "s, t, u = \"1\", '3', 'three'\n",
        "type(u)"
      ],
      "execution_count": null,
      "outputs": [
        {
          "output_type": "execute_result",
          "data": {
            "text/plain": [
              "str"
            ]
          },
          "metadata": {},
          "execution_count": 5
        }
      ]
    },
    {
      "cell_type": "markdown",
      "metadata": {
        "id": "ffWrXqV1Z3Zu"
      },
      "source": [
        "## OPERATIONS\n",
        "\n",
        "The Operations are, as the name suggests, are methods in how the programming language will simplify the values that are provided by the user. One of the most common usage of operations is when the user will use mathematical equations to solve problems. Colab uses symbols instead of the normal mathematical language used by humans."
      ]
    },
    {
      "cell_type": "markdown",
      "metadata": {
        "id": "xTe2n96haB6e"
      },
      "source": [
        "### Arithmetic\n",
        "\n",
        "Aritmetic operation is used to perform mathematical operations in solving the\n",
        "equations that was inputted in the medium."
      ]
    },
    {
      "cell_type": "code",
      "metadata": {
        "id": "SIw8fKtoaTnw"
      },
      "source": [
        "w, x ,y, z = 4.0, -3.0, 2, -32"
      ],
      "execution_count": null,
      "outputs": []
    },
    {
      "cell_type": "code",
      "metadata": {
        "colab": {
          "base_uri": "https://localhost:8080/"
        },
        "id": "9mLFqUila4x2",
        "outputId": "9f471983-1f16-4e8f-8919-163346772c37"
      },
      "source": [
        "### Addition\n",
        "S = w + x\n",
        "S"
      ],
      "execution_count": null,
      "outputs": [
        {
          "output_type": "execute_result",
          "data": {
            "text/plain": [
              "1.0"
            ]
          },
          "metadata": {},
          "execution_count": 8
        }
      ]
    },
    {
      "cell_type": "code",
      "metadata": {
        "id": "2gbOqzJtbiU1",
        "colab": {
          "base_uri": "https://localhost:8080/"
        },
        "outputId": "08498a47-e933-4228-e2af-5c624c13810f"
      },
      "source": [
        "### Subtraction\n",
        "D = y - z\n",
        "D"
      ],
      "execution_count": null,
      "outputs": [
        {
          "output_type": "execute_result",
          "data": {
            "text/plain": [
              "34"
            ]
          },
          "metadata": {},
          "execution_count": 9
        }
      ]
    },
    {
      "cell_type": "code",
      "metadata": {
        "id": "vfgcrkaob72F",
        "colab": {
          "base_uri": "https://localhost:8080/"
        },
        "outputId": "923bdbaa-1c48-4fb5-8eba-1871b02e8cbd"
      },
      "source": [
        "### Multiplication\n",
        "P = w*z\n",
        "P"
      ],
      "execution_count": null,
      "outputs": [
        {
          "output_type": "execute_result",
          "data": {
            "text/plain": [
              "-128.0"
            ]
          },
          "metadata": {},
          "execution_count": 12
        }
      ]
    },
    {
      "cell_type": "code",
      "metadata": {
        "id": "OCHwuYGMdkzm",
        "colab": {
          "base_uri": "https://localhost:8080/"
        },
        "outputId": "39ba47d1-d069-46fd-ed65-d122babc7f8f"
      },
      "source": [
        "### Division\n",
        "Q = y/x\n",
        "Q"
      ],
      "execution_count": null,
      "outputs": [
        {
          "output_type": "execute_result",
          "data": {
            "text/plain": [
              "-0.6666666666666666"
            ]
          },
          "metadata": {},
          "execution_count": 14
        }
      ]
    },
    {
      "cell_type": "code",
      "metadata": {
        "id": "apkf44xddp2N"
      },
      "source": [
        "### Floor Division\n",
        "Qf = w//x\n",
        "Qf "
      ],
      "execution_count": null,
      "outputs": []
    },
    {
      "cell_type": "code",
      "metadata": {
        "colab": {
          "base_uri": "https://localhost:8080/"
        },
        "id": "t3CYhY3sejZt",
        "outputId": "df305f7e-9b94-4281-8495-8a2dae98863c"
      },
      "source": [
        "### Exponentiation\n",
        "E = w**w"
      ],
      "execution_count": null,
      "outputs": [
        {
          "output_type": "execute_result",
          "data": {
            "text/plain": [
              "256.0"
            ]
          },
          "metadata": {},
          "execution_count": 34
        }
      ]
    },
    {
      "cell_type": "code",
      "metadata": {
        "id": "KPhZAeg0e9L1"
      },
      "source": [
        "### Modulo\n",
        "mod = z%x\n",
        "mod"
      ],
      "execution_count": null,
      "outputs": []
    },
    {
      "cell_type": "markdown",
      "metadata": {
        "id": "82nh8MwxfViM"
      },
      "source": [
        "### Assignment\n",
        "\n",
        "this are operators used to assign values to its designated variables, \n",
        "\"=\" is one example of an assignment operators."
      ]
    },
    {
      "cell_type": "code",
      "metadata": {
        "id": "yB2G6fCGfdXN"
      },
      "source": [
        "A, B, C, D, E = 0, 100, 2, 1, 2"
      ],
      "execution_count": null,
      "outputs": []
    },
    {
      "cell_type": "code",
      "metadata": {
        "id": "vp3w-qO8fp9v"
      },
      "source": [
        "A += w\n",
        "A"
      ],
      "execution_count": null,
      "outputs": []
    },
    {
      "cell_type": "code",
      "metadata": {
        "id": "oQ2YM4V6gFDd"
      },
      "source": [
        "B -= x\n",
        "B"
      ],
      "execution_count": null,
      "outputs": []
    },
    {
      "cell_type": "code",
      "metadata": {
        "id": "UZp6CYkZgdzE"
      },
      "source": [
        "C *= w\n",
        "C"
      ],
      "execution_count": null,
      "outputs": []
    },
    {
      "cell_type": "code",
      "metadata": {
        "id": "8tQTpsChiG08"
      },
      "source": [
        "D /= x"
      ],
      "execution_count": null,
      "outputs": []
    },
    {
      "cell_type": "code",
      "metadata": {
        "id": "JT_t54P0iJNd"
      },
      "source": [
        "E **= y"
      ],
      "execution_count": null,
      "outputs": []
    },
    {
      "cell_type": "markdown",
      "metadata": {
        "id": "CUr2bMwvjtnc"
      },
      "source": [
        "### Comparators\n",
        "\n",
        "Comparators are normally used to take two values/variables and compare them together."
      ]
    },
    {
      "cell_type": "code",
      "metadata": {
        "id": "qiyBenANYOUg"
      },
      "source": [
        "size_1, size_2, size_3 = 1, 2.0, \"1\"\n",
        "true_size = 1.0"
      ],
      "execution_count": null,
      "outputs": []
    },
    {
      "cell_type": "code",
      "metadata": {
        "id": "7cSOOUlYYhX9"
      },
      "source": [
        "## Equality\n",
        "size_1 == true_size"
      ],
      "execution_count": null,
      "outputs": []
    },
    {
      "cell_type": "code",
      "metadata": {
        "colab": {
          "base_uri": "https://localhost:8080/"
        },
        "id": "K_J5kTIgY9Ox",
        "outputId": "0b0028c7-8644-4ad4-b84f-80368f9cdd63"
      },
      "source": [
        "## Non-Equality\n",
        "size_2 != true_size"
      ],
      "execution_count": null,
      "outputs": [
        {
          "output_type": "execute_result",
          "data": {
            "text/plain": [
              "True"
            ]
          },
          "metadata": {},
          "execution_count": 4
        }
      ]
    },
    {
      "cell_type": "code",
      "metadata": {
        "id": "OIu-EeH8ZIg6"
      },
      "source": [
        "## Inequality\n",
        "s1 = size_1 > size_2\n",
        "s2 = size_1 < size_2/2\n",
        "s3 = true_size >= size_1\n",
        "s4 = size_2 <= true_size"
      ],
      "execution_count": null,
      "outputs": []
    },
    {
      "cell_type": "markdown",
      "metadata": {
        "id": "n289QVBTbqtq"
      },
      "source": [
        "### Logical\n",
        "\n",
        "A Logical Statement declarative sentence which conveys factual information, which can also be done in Colab as seen below."
      ]
    },
    {
      "cell_type": "code",
      "metadata": {
        "id": "AqGvF3KbbyAx"
      },
      "source": [
        "size_1 == true_size"
      ],
      "execution_count": null,
      "outputs": []
    },
    {
      "cell_type": "code",
      "metadata": {
        "id": "N42b3M_yb-FB"
      },
      "source": [
        "size_1 is true_size"
      ],
      "execution_count": null,
      "outputs": []
    },
    {
      "cell_type": "code",
      "metadata": {
        "id": "xiemKzokcvCx"
      },
      "source": [
        "size_1 is not true_size"
      ],
      "execution_count": null,
      "outputs": []
    },
    {
      "cell_type": "code",
      "metadata": {
        "colab": {
          "base_uri": "https://localhost:8080/"
        },
        "id": "lLvna4RLc655",
        "outputId": "81efea42-2814-4c43-8212-007ae2a0f3c1"
      },
      "source": [
        "P, Q = True, False\n",
        "conj = P and Q"
      ],
      "execution_count": null,
      "outputs": [
        {
          "output_type": "execute_result",
          "data": {
            "text/plain": [
              "False"
            ]
          },
          "metadata": {},
          "execution_count": 28
        }
      ]
    },
    {
      "cell_type": "code",
      "metadata": {
        "id": "aF-PZL4Nd80K"
      },
      "source": [
        "disj = P or Q\n",
        "disj"
      ],
      "execution_count": null,
      "outputs": []
    },
    {
      "cell_type": "code",
      "metadata": {
        "colab": {
          "base_uri": "https://localhost:8080/"
        },
        "id": "0L226qq4eL4o",
        "outputId": "904194a4-145b-4cd5-e189-147e8b391524"
      },
      "source": [
        "nand = not (P and Q)\n",
        "nand"
      ],
      "execution_count": null,
      "outputs": [
        {
          "output_type": "execute_result",
          "data": {
            "text/plain": [
              "True"
            ]
          },
          "metadata": {},
          "execution_count": 30
        }
      ]
    },
    {
      "cell_type": "code",
      "metadata": {
        "id": "6zC-abcSeYBZ"
      },
      "source": [
        "xor = (not P and Q) or (P and not Q)\n",
        "xor"
      ],
      "execution_count": null,
      "outputs": []
    },
    {
      "cell_type": "markdown",
      "metadata": {
        "id": "_RQJzJqmezC0"
      },
      "source": [
        "## Input and Output\n",
        "\n",
        "Input is the process wherein the user 'inputs' a command so the application can show its result. the Output on the other-hand, is the shown 'result' of the input."
      ]
    },
    {
      "cell_type": "code",
      "metadata": {
        "id": "9UqGypree2rg",
        "colab": {
          "base_uri": "https://localhost:8080/"
        },
        "outputId": "7240ad5b-afad-46e9-e3a6-81e8378e5b46"
      },
      "source": [
        "print(\"HELLO WORLD! How na U\")"
      ],
      "execution_count": null,
      "outputs": [
        {
          "output_type": "stream",
          "name": "stdout",
          "text": [
            "HELLO WORLD! How na U\n"
          ]
        }
      ]
    },
    {
      "cell_type": "code",
      "metadata": {
        "id": "ifYWG9DyfEYA"
      },
      "source": [
        "cnt = 14000"
      ],
      "execution_count": null,
      "outputs": []
    },
    {
      "cell_type": "code",
      "metadata": {
        "id": "KOSDYT9QfI4P",
        "colab": {
          "base_uri": "https://localhost:8080/"
        },
        "outputId": "9104409f-56a1-4bc8-806b-89e400373121"
      },
      "source": [
        "string = \"Hello World!\"\n",
        "print(string, \", Current COVID count is:\", cnt)\n",
        "cnt += 10000"
      ],
      "execution_count": null,
      "outputs": [
        {
          "output_type": "stream",
          "name": "stdout",
          "text": [
            "Hello World! , Current COVID count is: 14000\n"
          ]
        }
      ]
    },
    {
      "cell_type": "code",
      "metadata": {
        "colab": {
          "base_uri": "https://localhost:8080/"
        },
        "id": "OGmz4-gvgIRG",
        "outputId": "f100db3a-730d-430c-a250-bab792a5362a"
      },
      "source": [
        "print(f\"{string}, current count is: {cnt}\")"
      ],
      "execution_count": null,
      "outputs": [
        {
          "output_type": "stream",
          "name": "stdout",
          "text": [
            "Hello World!, current count is: 24000\n"
          ]
        }
      ]
    },
    {
      "cell_type": "code",
      "metadata": {
        "colab": {
          "base_uri": "https://localhost:8080/"
        },
        "id": "3rKLdB5phL_l",
        "outputId": "e8175d8a-2cdd-44bf-845e-1ad567635c3d"
      },
      "source": [
        "sem_grade = 86.25\n",
        "name = \"Carl\"\n",
        "print(\"Hello {}, your Semestral grade is: {}\".format(name, sem_grade))"
      ],
      "execution_count": null,
      "outputs": [
        {
          "output_type": "stream",
          "name": "stdout",
          "text": [
            "Hello Carl, your Semestral grade is: 86.25\n"
          ]
        }
      ]
    },
    {
      "cell_type": "code",
      "metadata": {
        "id": "xCAJpLD9gfn7",
        "colab": {
          "base_uri": "https://localhost:8080/"
        },
        "outputId": "01748fb0-1d60-492a-e822-856ac1057ee8"
      },
      "source": [
        "pg, mg, fg = 0.3, 0.3, 0.4\n",
        "print(\"The weights of your Semestral Grade are:\\\n",
        "\\n\\t {:.2%} for Prelims\\\n",
        "\\n\\t {:.2%} for Midterms, and\\\n",
        "\\n\\t {:.2%} for Finals.\".format(pg, mg, fg))"
      ],
      "execution_count": null,
      "outputs": [
        {
          "output_type": "stream",
          "name": "stdout",
          "text": [
            "The weights of your Semestral Grade are:\n",
            "\t 30.00% for Prelims\n",
            "\t 30.00% for Midterms, and\n",
            "\t 40.00% for Finals.\n"
          ]
        }
      ]
    },
    {
      "cell_type": "code",
      "metadata": {
        "id": "MTJnTHOljZOn"
      },
      "source": [
        "e = input(\"Enter a Number: \")"
      ],
      "execution_count": null,
      "outputs": []
    },
    {
      "cell_type": "code",
      "metadata": {
        "id": "CiAGMpp7j-kx"
      },
      "source": [
        "name = input(\"Enter your name: \")\n",
        "pg = input(\"Enter Prelim Grade: \")\n",
        "mg = input(\"Enter Midterm Grade: \")\n",
        "fg = input(\"Enter Finals Grade: \")\n",
        "sem_grade = None\n",
        "print(\"Hello {}, Your Semestral Grade is: {}\".format(name, sem_grade))"
      ],
      "execution_count": null,
      "outputs": []
    },
    {
      "cell_type": "markdown",
      "metadata": {
        "id": "tiGMcYp_oHuX"
      },
      "source": [
        "## Looping Statements"
      ]
    },
    {
      "cell_type": "markdown",
      "metadata": {
        "id": "jDNNIFWYoQAW"
      },
      "source": [
        "## While\n",
        "\n",
        "Is a loop wherein it is used to execute a inputted piece of variables/value repeatedly until a given a condition is satisfied."
      ]
    },
    {
      "cell_type": "code",
      "metadata": {
        "colab": {
          "base_uri": "https://localhost:8080/"
        },
        "id": "WnfhAg2ToZ2r",
        "outputId": "f0713bce-ed9c-4fbe-b402-bc8b0c6f9282"
      },
      "source": [
        "## while loops\n",
        "i, j = 0, 10\n",
        "while(i<=j):\n",
        "  print(f\"{i}\\t|\\t{j}\")\n",
        "  i += 1"
      ],
      "execution_count": null,
      "outputs": [
        {
          "output_type": "stream",
          "name": "stdout",
          "text": [
            "0\t|\t10\n",
            "1\t|\t10\n",
            "2\t|\t10\n",
            "3\t|\t10\n",
            "4\t|\t10\n",
            "5\t|\t10\n",
            "6\t|\t10\n",
            "7\t|\t10\n",
            "8\t|\t10\n",
            "9\t|\t10\n",
            "10\t|\t10\n"
          ]
        }
      ]
    },
    {
      "cell_type": "markdown",
      "metadata": {
        "id": "A_NnkWRIpQdE"
      },
      "source": [
        "## For\n",
        "\n",
        "For Loop is used for repeating over a sequence (which is either a list, tuple, a dictionary, a set, or a string)."
      ]
    },
    {
      "cell_type": "code",
      "metadata": {
        "id": "bAAiaiG2pSxe"
      },
      "source": [
        "# for(int = 0; 1<10; i++){\n",
        "#printf(i)\n",
        "# }\n",
        "\n",
        "i = 0\n",
        "for i in range(11):\n",
        "  print(i)"
      ],
      "execution_count": null,
      "outputs": []
    },
    {
      "cell_type": "code",
      "metadata": {
        "id": "tazpM3qaqYcU"
      },
      "source": [
        "playlist = [\"Bahay Kubo\", \"Magandang Kanta\", \"Kono Dio Da!!\"]\n",
        "print('Now Playing:\\n')\n",
        "for song in playlist:\n",
        "  print(song)"
      ],
      "execution_count": null,
      "outputs": []
    },
    {
      "cell_type": "markdown",
      "metadata": {
        "id": "HaoLm_KtrMke"
      },
      "source": [
        "## Flow Control\n",
        "\n",
        "Flow control as its name suggest, the flow of order in which the inputted codes\n",
        "are being executed."
      ]
    },
    {
      "cell_type": "markdown",
      "metadata": {
        "id": "4Q8H0Ag1rSnS"
      },
      "source": [
        "### Condition Statements\n",
        "\n",
        "This are statements wherein a hypothesis is followed by a conclusion."
      ]
    },
    {
      "cell_type": "code",
      "metadata": {
        "colab": {
          "base_uri": "https://localhost:8080/"
        },
        "id": "Ff44Gh0SrVpa",
        "outputId": "5c246311-0cd5-4942-b4e8-ea60147913e8"
      },
      "source": [
        "num_1, num_2 = 14, 12\n",
        "if(num_1 == num_2):\n",
        "  print(\"HaHa\")\n",
        "elif(num_1>num_2):\n",
        "  print(\"HoHo\")\n",
        "else:\n",
        "  print(\"HuHu\")"
      ],
      "execution_count": null,
      "outputs": [
        {
          "output_type": "stream",
          "name": "stdout",
          "text": [
            "HoHo\n"
          ]
        }
      ]
    },
    {
      "cell_type": "markdown",
      "metadata": {
        "id": "eJ4FrBaBsJeC"
      },
      "source": [
        "## Functions\n",
        "\n",
        "The Function is a piece of code which can only operate when it is 'run'.\n",
        "You can pass data, which is also called parameters, into a function.\n",
        "A function show its output data as a result.\n"
      ]
    },
    {
      "cell_type": "code",
      "metadata": {
        "id": "Kl8sS-trsYTd"
      },
      "source": [
        "# void DeleteUser (int userid){\n",
        "#   delete(userid);\n",
        "#}\n",
        "\n",
        "def delete_user (userid):\n",
        "  print(\"Successfully deleted user: {}\".format(userid))\n"
      ],
      "execution_count": null,
      "outputs": []
    },
    {
      "cell_type": "code",
      "metadata": {
        "id": "TfYVLo7Dt2Wb"
      },
      "source": [
        "userid = 2020_100100\n",
        "delete_user(2020_100100)"
      ],
      "execution_count": null,
      "outputs": []
    },
    {
      "cell_type": "code",
      "metadata": {
        "id": "AZYVzfN2uVJ4"
      },
      "source": [
        "def add(addend1, addend2):\n",
        "  sum = addend1 + addend2\n",
        "  return sum"
      ],
      "execution_count": null,
      "outputs": []
    },
    {
      "cell_type": "code",
      "metadata": {
        "colab": {
          "base_uri": "https://localhost:8080/"
        },
        "id": "thCYgYTMvEZB",
        "outputId": "70c5f15c-8940-4ca0-c25a-8492f774169e"
      },
      "source": [
        "add(5, 4)"
      ],
      "execution_count": null,
      "outputs": [
        {
          "output_type": "execute_result",
          "data": {
            "text/plain": [
              "9"
            ]
          },
          "metadata": {},
          "execution_count": 79
        }
      ]
    }
  ]
}