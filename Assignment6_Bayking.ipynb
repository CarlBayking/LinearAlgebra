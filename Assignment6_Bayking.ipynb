{
  "nbformat": 4,
  "nbformat_minor": 0,
  "metadata": {
    "colab": {
      "name": "Assignment6-Bayking.ipynb",
      "provenance": [],
      "collapsed_sections": [],
      "authorship_tag": "ABX9TyMBUNu2+L2ui+U4OMXewuDg",
      "include_colab_link": true
    },
    "kernelspec": {
      "name": "python3",
      "display_name": "Python 3"
    },
    "language_info": {
      "name": "python"
    }
  },
  "cells": [
    {
      "cell_type": "markdown",
      "metadata": {
        "id": "view-in-github",
        "colab_type": "text"
      },
      "source": [
        "<a href=\"https://colab.research.google.com/github/CarlBayking/LinearAlgebra/blob/main/Assignment6_Bayking.ipynb\" target=\"_parent\"><img src=\"https://colab.research.google.com/assets/colab-badge.svg\" alt=\"Open In Colab\"/></a>"
      ]
    },
    {
      "cell_type": "markdown",
      "metadata": {
        "id": "YMtOp6hHEY0_"
      },
      "source": [
        "###Linear Algebra For ECE"
      ]
    },
    {
      "cell_type": "markdown",
      "metadata": {
        "id": "k9Vu2QNqEevk"
      },
      "source": [
        "\n",
        "\n",
        "\n",
        "\n",
        "Now that you have a fundamental knowledge about representing and operating with vectors as well as the fundamental of matrices, we'll try to do the same operations with matrices and even more."
      ]
    },
    {
      "cell_type": "markdown",
      "metadata": {
        "id": "T_UkW8gqEluc"
      },
      "source": [
        "### Objectives\n",
        "\n",
        "at the end of this activity you will be able to:\n",
        "\n",
        "\n",
        "1.   Be familiar with the fundamental matrix operations\n",
        "2.   Apply the operations to solve intermediate equations\n",
        "3.   Apply Matrix Algebra in engineering solutions\n",
        "\n"
      ]
    },
    {
      "cell_type": "markdown",
      "metadata": {
        "id": "-cjiMzq9FIgV"
      },
      "source": [
        "### Discussion"
      ]
    },
    {
      "cell_type": "code",
      "metadata": {
        "id": "wjmJbI7qFMbt"
      },
      "source": [
        "import numpy as np\n",
        "import matplotlib.pyplot as plt\n",
        "%matplotlib inline"
      ],
      "execution_count": null,
      "outputs": []
    },
    {
      "cell_type": "markdown",
      "metadata": {
        "id": "6TlPqLMKHbdV"
      },
      "source": [
        "### Transposition\n",
        "\n",
        "one of the fundamental operations in matrix algebra in Transposition. the transpose of a matrix is done by flipping the values of its elements over its diagonal. with this, the rows and columns from the original matrix will be switched. so for a matrix $A$ is denoted as matrix $A^T$.\n",
        "For Example:"
      ]
    },
    {
      "cell_type": "markdown",
      "metadata": {
        "id": "pT8AYTo2Htjr"
      },
      "source": [
        "$$A = \\begin{bmatrix} 1 & 2 & 5\\\\5 & -1 &0 \\\\ 0 & -3 & 3\\end{bmatrix} $$\n",
        "\n",
        "\n",
        "\n",
        "\n",
        "$$A^T = \\begin{bmatrix} 1 & 5 & 0\\\\2 & -1 & -3 \\\\ 5 & 0 & 3\\end{bmatrix}$$\n"
      ]
    },
    {
      "cell_type": "code",
      "metadata": {
        "colab": {
          "base_uri": "https://localhost:8080/"
        },
        "id": "UnegmvoeDw0B",
        "outputId": "e6f15ec8-680f-46e4-b5bc-4d83f4105416"
      },
      "source": [
        "A= np.array([\n",
        "    [1, 2, 5],\n",
        "    [5, -1, 0],\n",
        "    [0, -3, 3]\n",
        "])\n",
        "A"
      ],
      "execution_count": null,
      "outputs": [
        {
          "output_type": "execute_result",
          "data": {
            "text/plain": [
              "array([[ 1,  2,  5],\n",
              "       [ 5, -1,  0],\n",
              "       [ 0, -3,  3]])"
            ]
          },
          "metadata": {},
          "execution_count": 2
        }
      ]
    },
    {
      "cell_type": "code",
      "metadata": {
        "colab": {
          "base_uri": "https://localhost:8080/"
        },
        "id": "kfUQ_kvSJ7OM",
        "outputId": "574ac02c-459d-4ac6-9873-05f0d56ebc07"
      },
      "source": [
        "AT1 = np.transpose(A)\n",
        "AT1"
      ],
      "execution_count": null,
      "outputs": [
        {
          "output_type": "execute_result",
          "data": {
            "text/plain": [
              "array([[ 1,  5,  0],\n",
              "       [ 2, -1, -3],\n",
              "       [ 5,  0,  3]])"
            ]
          },
          "metadata": {},
          "execution_count": 3
        }
      ]
    },
    {
      "cell_type": "code",
      "metadata": {
        "colab": {
          "base_uri": "https://localhost:8080/"
        },
        "id": "0fzvUmMMKnj8",
        "outputId": "99c05b13-00c6-4838-cbfa-dbdf49b30c79"
      },
      "source": [
        "AT2 = A.T\n",
        "AT2"
      ],
      "execution_count": null,
      "outputs": [
        {
          "output_type": "execute_result",
          "data": {
            "text/plain": [
              "array([[ 1,  5,  0],\n",
              "       [ 2, -1, -3],\n",
              "       [ 5,  0,  3]])"
            ]
          },
          "metadata": {},
          "execution_count": 4
        }
      ]
    },
    {
      "cell_type": "code",
      "metadata": {
        "colab": {
          "base_uri": "https://localhost:8080/"
        },
        "id": "kI1MmkSxKtO7",
        "outputId": "e1bf7052-f1e7-430c-cb43-0f1a4fc912d3"
      },
      "source": [
        "np.array_equiv(AT1, AT2)"
      ],
      "execution_count": null,
      "outputs": [
        {
          "output_type": "execute_result",
          "data": {
            "text/plain": [
              "True"
            ]
          },
          "metadata": {},
          "execution_count": 5
        }
      ]
    },
    {
      "cell_type": "code",
      "metadata": {
        "colab": {
          "base_uri": "https://localhost:8080/"
        },
        "id": "rbmQLvw2K062",
        "outputId": "0f925c83-bc94-4067-d790-08fb98dffd7c"
      },
      "source": [
        "B = np.array([\n",
        "              [1, 2, 3, 4],\n",
        "              [1, 0, 2, 1],\n",
        "])\n",
        "B.shape"
      ],
      "execution_count": null,
      "outputs": [
        {
          "output_type": "execute_result",
          "data": {
            "text/plain": [
              "(2, 4)"
            ]
          },
          "metadata": {},
          "execution_count": 8
        }
      ]
    },
    {
      "cell_type": "code",
      "metadata": {
        "colab": {
          "base_uri": "https://localhost:8080/"
        },
        "id": "ErqMecLJLORr",
        "outputId": "de9e2ae4-de60-43d0-c36d-9524df526176"
      },
      "source": [
        "np.transpose(B).shape"
      ],
      "execution_count": null,
      "outputs": [
        {
          "output_type": "execute_result",
          "data": {
            "text/plain": [
              "(4, 2)"
            ]
          },
          "metadata": {},
          "execution_count": 9
        }
      ]
    },
    {
      "cell_type": "code",
      "metadata": {
        "colab": {
          "base_uri": "https://localhost:8080/"
        },
        "id": "2rLPeWDdLVAj",
        "outputId": "7dbb9524-f202-4fc1-958c-eeba2d01d6f1"
      },
      "source": [
        "B.T.shape"
      ],
      "execution_count": null,
      "outputs": [
        {
          "output_type": "execute_result",
          "data": {
            "text/plain": [
              "(4, 2)"
            ]
          },
          "metadata": {},
          "execution_count": 10
        }
      ]
    },
    {
      "cell_type": "markdown",
      "metadata": {
        "id": "pcbFbAM7L8Mi"
      },
      "source": [
        "### Try to Create your own matrix (you can try non-square matrix to test transposition)"
      ]
    },
    {
      "cell_type": "code",
      "metadata": {
        "colab": {
          "base_uri": "https://localhost:8080/"
        },
        "id": "f9ntMozqLZJm",
        "outputId": "14153f2b-8123-4154-9d83-cdfa4d6749bb"
      },
      "source": [
        "Carl= np.array([\n",
        "    [8, 2, 7, 1],\n",
        "    [9, 1, 2, 5],\n",
        "    [5, 2, 1, 0],\n",
        "])\n",
        "Carl.shape"
      ],
      "execution_count": null,
      "outputs": [
        {
          "output_type": "execute_result",
          "data": {
            "text/plain": [
              "(3, 4)"
            ]
          },
          "metadata": {},
          "execution_count": 7
        }
      ]
    },
    {
      "cell_type": "code",
      "metadata": {
        "colab": {
          "base_uri": "https://localhost:8080/"
        },
        "id": "sTvk4cdML05W",
        "outputId": "a4ea5a60-a484-4e88-ebae-1cd77b12ad8f"
      },
      "source": [
        "np.transpose(Carl).shape"
      ],
      "execution_count": null,
      "outputs": [
        {
          "output_type": "execute_result",
          "data": {
            "text/plain": [
              "(4, 3)"
            ]
          },
          "metadata": {},
          "execution_count": 8
        }
      ]
    },
    {
      "cell_type": "code",
      "metadata": {
        "colab": {
          "base_uri": "https://localhost:8080/"
        },
        "id": "T9w-K16QL4kr",
        "outputId": "397ac0e3-8482-44ca-986c-8173424b2889"
      },
      "source": [
        "Carl.T.shape"
      ],
      "execution_count": null,
      "outputs": [
        {
          "output_type": "execute_result",
          "data": {
            "text/plain": [
              "(4, 3)"
            ]
          },
          "metadata": {},
          "execution_count": 9
        }
      ]
    },
    {
      "cell_type": "code",
      "metadata": {
        "colab": {
          "base_uri": "https://localhost:8080/"
        },
        "id": "QJtSypjPQu9z",
        "outputId": "8ef5151d-9427-4f73-ac5e-ea3641598115"
      },
      "source": [
        "CarlT = Carl.T\n",
        "CarlT"
      ],
      "execution_count": null,
      "outputs": [
        {
          "output_type": "execute_result",
          "data": {
            "text/plain": [
              "array([[8, 9, 5],\n",
              "       [2, 1, 2],\n",
              "       [7, 2, 1],\n",
              "       [1, 5, 0]])"
            ]
          },
          "metadata": {},
          "execution_count": 11
        }
      ]
    },
    {
      "cell_type": "markdown",
      "metadata": {
        "id": "jHq2_QXROCOm"
      },
      "source": [
        "### Dot Product\n",
        "\n",
        "-If you recall Dot product from Labratory Activity before, We will try to implement the same operations with matrices. In matrix dot product we are going to get the sum of products of the vectors by row column parts so if we have 2 matrices $X$ and $Y$:"
      ]
    },
    {
      "cell_type": "markdown",
      "metadata": {
        "id": "HvZ0P2h7SrWs"
      },
      "source": [
        "$$X = \\begin{bmatrix}x_{(0,0)}&x_{(0,1)}\\\\ x_{(1,0)}&x_{(1,1)}\\end{bmatrix}, Y = \\begin{bmatrix}y_{(0,0)}&y_{(0,1)}\\\\ y_{(1,0)}&y_{(1,1)}\\end{bmatrix}$$\n",
        "\n",
        "The dot product will then be computed as:\n",
        "$$X \\cdot Y= \\begin{bmatrix} x_{(0,0)}*y_{(0,0)} + x_{(0,1)}*y_{(1,0)} & x_{(0,0)}*y_{(0,1)} + x_{(0,1)}*y_{(1,1)} \\\\  x_{(1,0)}*y_{(0,0)} + x_{(1,1)}*y_{(1,0)} & x_{(1,0)}*y_{(0,1)} + x_{(1,1)}*y_{(1,1)}\n",
        "\\end{bmatrix}$$\n",
        "\n",
        "So if we assign values to $X$ and $Y$:\n",
        "$$X = \\begin{bmatrix}1&2\\\\ 0&1\\end{bmatrix}, Y = \\begin{bmatrix}-1&0\\\\ 2&2\\end{bmatrix}$$"
      ]
    },
    {
      "cell_type": "markdown",
      "metadata": {
        "id": "trEmdZZ5Swji"
      },
      "source": [
        "$$X \\cdot Y= \\begin{bmatrix} 1*-1 + 2*2 & 1*0 + 2*2 \\\\  0*-1 + 1*2 & 0*0 + 1*2 \\end{bmatrix} = \\begin{bmatrix} 3 & 4 \\\\2 & 2 \\end{bmatrix}$$\n",
        "This could be achieved programmatically using `np.dot()`, `np.matmul()` or the `@` operator."
      ]
    },
    {
      "cell_type": "code",
      "metadata": {
        "id": "l9xzEvaEOHHb"
      },
      "source": [
        "X = np.array([\n",
        "    [1,2],\n",
        "    [0,1]\n",
        "])\n",
        "Y = np.array([\n",
        "    [-1,0],\n",
        "    [2,2]\n",
        "])"
      ],
      "execution_count": null,
      "outputs": []
    },
    {
      "cell_type": "code",
      "metadata": {
        "colab": {
          "base_uri": "https://localhost:8080/"
        },
        "id": "qF7-rnY7OYM8",
        "outputId": "f508d802-de55-4ed5-a639-b73e882d1d43"
      },
      "source": [
        "np.dot(X ,Y)"
      ],
      "execution_count": null,
      "outputs": [
        {
          "output_type": "execute_result",
          "data": {
            "text/plain": [
              "array([[3, 4],\n",
              "       [2, 2]])"
            ]
          },
          "metadata": {},
          "execution_count": 24
        }
      ]
    },
    {
      "cell_type": "code",
      "metadata": {
        "colab": {
          "base_uri": "https://localhost:8080/"
        },
        "id": "d67OdO6UOdcI",
        "outputId": "fa3b3543-126a-4374-f8a6-ad75e43bc4a0"
      },
      "source": [
        "X.dot(Y)"
      ],
      "execution_count": null,
      "outputs": [
        {
          "output_type": "execute_result",
          "data": {
            "text/plain": [
              "array([[3, 4],\n",
              "       [2, 2]])"
            ]
          },
          "metadata": {},
          "execution_count": 25
        }
      ]
    },
    {
      "cell_type": "code",
      "metadata": {
        "colab": {
          "base_uri": "https://localhost:8080/"
        },
        "id": "8yaxjej0Og6z",
        "outputId": "b96762ed-505f-4da1-ae66-1fe4dc272e76"
      },
      "source": [
        "X @ Y"
      ],
      "execution_count": null,
      "outputs": [
        {
          "output_type": "execute_result",
          "data": {
            "text/plain": [
              "array([[3, 4],\n",
              "       [2, 2]])"
            ]
          },
          "metadata": {},
          "execution_count": 26
        }
      ]
    },
    {
      "cell_type": "code",
      "metadata": {
        "colab": {
          "base_uri": "https://localhost:8080/"
        },
        "id": "R4tItcNtOjab",
        "outputId": "a07206af-4935-4df4-a12c-be8abf71f947"
      },
      "source": [
        "np.matmul(X, Y)"
      ],
      "execution_count": null,
      "outputs": [
        {
          "output_type": "execute_result",
          "data": {
            "text/plain": [
              "array([[3, 4],\n",
              "       [2, 2]])"
            ]
          },
          "metadata": {},
          "execution_count": 27
        }
      ]
    },
    {
      "cell_type": "markdown",
      "metadata": {
        "id": "qvJFEdGIOs1j"
      },
      "source": [
        "try"
      ]
    },
    {
      "cell_type": "code",
      "metadata": {
        "id": "14Quwth5Otx6"
      },
      "source": [
        "J = np.array([\n",
        "    [-1,2,3],\n",
        "    [3,1,5],\n",
        "    [8,9,0]\n",
        "])\n",
        "C = np.array([\n",
        "    [-1,0,9],\n",
        "    [2,2,9],\n",
        "    [9,9,9]\n",
        "])"
      ],
      "execution_count": null,
      "outputs": []
    },
    {
      "cell_type": "code",
      "metadata": {
        "colab": {
          "base_uri": "https://localhost:8080/"
        },
        "id": "3j8-QAHQPYI0",
        "outputId": "5a926960-d835-4033-c37e-251ddbf66dd0"
      },
      "source": [
        "np.dot(J,C)"
      ],
      "execution_count": null,
      "outputs": [
        {
          "output_type": "execute_result",
          "data": {
            "text/plain": [
              "array([[ 32,  31,  36],\n",
              "       [ 44,  47,  81],\n",
              "       [ 10,  18, 153]])"
            ]
          },
          "metadata": {},
          "execution_count": 29
        }
      ]
    },
    {
      "cell_type": "code",
      "metadata": {
        "colab": {
          "base_uri": "https://localhost:8080/"
        },
        "id": "hnhHf1eRPeET",
        "outputId": "3556b18a-5dff-41fc-f1ad-30d9cdbcf1f4"
      },
      "source": [
        "C.dot(J)"
      ],
      "execution_count": null,
      "outputs": [
        {
          "output_type": "execute_result",
          "data": {
            "text/plain": [
              "array([[ 73,  79,  -3],\n",
              "       [ 76,  87,  16],\n",
              "       [ 90, 108,  72]])"
            ]
          },
          "metadata": {},
          "execution_count": 30
        }
      ]
    },
    {
      "cell_type": "code",
      "metadata": {
        "colab": {
          "base_uri": "https://localhost:8080/"
        },
        "id": "aWiskTSIPlpr",
        "outputId": "1f5280d5-0b55-4739-941c-5d5181e84459"
      },
      "source": [
        "np.matmul(J,C)"
      ],
      "execution_count": null,
      "outputs": [
        {
          "output_type": "execute_result",
          "data": {
            "text/plain": [
              "array([[ 32,  31,  36],\n",
              "       [ 44,  47,  81],\n",
              "       [ 10,  18, 153]])"
            ]
          },
          "metadata": {},
          "execution_count": 31
        }
      ]
    },
    {
      "cell_type": "markdown",
      "metadata": {
        "id": "5q9iuSfDP5cT"
      },
      "source": [
        "In matrix dot products there are additional rules compared with vector dot products. Since vector dot products were just in one dimension there are less restrictions. Since now we are dealing with Rank 2 vectors we need to consider some rules:\n",
        "\n",
        "### Rule 1: The inner dimensions of the two matrices in question must be the same. \n",
        "\n",
        "So given a matrix $A$ with a shape of $(a,b)$ where $a$ and $b$ are any integers. If we want to do a dot product between $A$ and another matrix $B$, then matrix $B$ should have a shape of $(b,c)$ where $b$ and $c$ are any integers. So for given the following matrices:\n",
        "\n",
        "$$A = \\begin{bmatrix}2&4\\\\5&-2\\\\0&1\\end{bmatrix}, B = \\begin{bmatrix}1&1\\\\3&3\\\\-1&-2\\end{bmatrix}, C = \\begin{bmatrix}0&1&1\\\\1&1&2\\end{bmatrix}$$\n",
        "\n",
        "So in this case $A$ has a shape of $(3,2)$, $B$ has a shape of $(3,2)$ and $C$ has a shape of $(2,3)$. So the only matrix pairs that is eligible to perform dot product is matrices $A \\cdot C$, or $B \\cdot C$.  "
      ]
    },
    {
      "cell_type": "code",
      "metadata": {
        "id": "0jFZdis7QsSb",
        "colab": {
          "base_uri": "https://localhost:8080/"
        },
        "outputId": "96179fd0-e579-4bca-8029-d08bb86e54fc"
      },
      "source": [
        "A = np.array([\n",
        "    [2,4],\n",
        "    [5,-2],\n",
        "    [0,1]\n",
        "])\n",
        "B = np.array([\n",
        "    [1,1],\n",
        "    [3,3],\n",
        "    [-1,-2]\n",
        "])\n",
        "C = np.array([\n",
        "              [0,1,1],\n",
        "              [1,2,2]\n",
        "              \n",
        "])\n",
        "print(A.shape)\n",
        "print(B.shape)\n",
        "print(C.shape)"
      ],
      "execution_count": null,
      "outputs": [
        {
          "output_type": "stream",
          "name": "stdout",
          "text": [
            "(3, 2)\n",
            "(3, 2)\n",
            "(2, 3)\n"
          ]
        }
      ]
    },
    {
      "cell_type": "code",
      "metadata": {
        "colab": {
          "base_uri": "https://localhost:8080/"
        },
        "id": "9HmZ-8TfSFxs",
        "outputId": "b2206230-78b1-4942-d64c-0abba868d44a"
      },
      "source": [
        "X = np.array([\n",
        "              [1,2,3,0]\n",
        "])\n",
        "Y = np.array([\n",
        "              [1,0,4,-1]\n",
        "])\n",
        "print(X.shape)\n",
        "print(Y.shape)"
      ],
      "execution_count": null,
      "outputs": [
        {
          "output_type": "stream",
          "name": "stdout",
          "text": [
            "(1, 4)\n",
            "(1, 4)\n"
          ]
        }
      ]
    },
    {
      "cell_type": "code",
      "metadata": {
        "id": "hFlHumJOTkKb",
        "colab": {
          "base_uri": "https://localhost:8080/"
        },
        "outputId": "3c2f5af3-d17c-4beb-b0a8-cb159dd4c172"
      },
      "source": [
        "A @ C"
      ],
      "execution_count": null,
      "outputs": [
        {
          "output_type": "execute_result",
          "data": {
            "text/plain": [
              "array([[ 4, 10, 10],\n",
              "       [-2,  1,  1],\n",
              "       [ 1,  2,  2]])"
            ]
          },
          "metadata": {},
          "execution_count": 21
        }
      ]
    },
    {
      "cell_type": "code",
      "metadata": {
        "id": "unVF-RVcVCEO",
        "colab": {
          "base_uri": "https://localhost:8080/"
        },
        "outputId": "8f189715-4e1b-4464-f88c-6fbbd746636a"
      },
      "source": [
        "B @ C"
      ],
      "execution_count": null,
      "outputs": [
        {
          "output_type": "execute_result",
          "data": {
            "text/plain": [
              "array([[ 1,  3,  3],\n",
              "       [ 3,  9,  9],\n",
              "       [-2, -5, -5]])"
            ]
          },
          "metadata": {},
          "execution_count": 22
        }
      ]
    },
    {
      "cell_type": "markdown",
      "metadata": {
        "id": "MtilVmEyThJs"
      },
      "source": [
        "If you would notice the shape of the dot product changed and its shape is not the same as any of the matrices we used. The shape of a dot product is actually derived from the shapes of the matrices used. So recall matrix $A$ with a shape of $(a,b)$ and matrix $B$ with a shape of $(b,c)$, $A \\cdot B$ should have a shape $(a,c)$."
      ]
    },
    {
      "cell_type": "code",
      "metadata": {
        "colab": {
          "base_uri": "https://localhost:8080/"
        },
        "id": "XltBk5FdVctP",
        "outputId": "b9908858-2525-4ccc-8e08-d55ca0df8175"
      },
      "source": [
        "A @ B.T"
      ],
      "execution_count": null,
      "outputs": [
        {
          "output_type": "execute_result",
          "data": {
            "text/plain": [
              "array([[  6,  18, -10],\n",
              "       [  3,   9,  -1],\n",
              "       [  1,   3,  -2]])"
            ]
          },
          "metadata": {},
          "execution_count": 25
        }
      ]
    },
    {
      "cell_type": "code",
      "metadata": {
        "colab": {
          "base_uri": "https://localhost:8080/"
        },
        "id": "lcSWHrR_SvL9",
        "outputId": "e9e43edf-9471-40a1-c20c-987080949322"
      },
      "source": [
        "Y.T @ X"
      ],
      "execution_count": null,
      "outputs": [
        {
          "output_type": "execute_result",
          "data": {
            "text/plain": [
              "array([[ 1,  2,  3,  0],\n",
              "       [ 0,  0,  0,  0],\n",
              "       [ 4,  8, 12,  0],\n",
              "       [-1, -2, -3,  0]])"
            ]
          },
          "metadata": {},
          "execution_count": 23
        }
      ]
    },
    {
      "cell_type": "code",
      "metadata": {
        "colab": {
          "base_uri": "https://localhost:8080/"
        },
        "id": "-WskpVqHSzYd",
        "outputId": "dbd8d94d-54c2-432a-f983-2579f2dc4a8a"
      },
      "source": [
        "X @ Y.T"
      ],
      "execution_count": null,
      "outputs": [
        {
          "output_type": "execute_result",
          "data": {
            "text/plain": [
              "array([[13]])"
            ]
          },
          "metadata": {},
          "execution_count": 24
        }
      ]
    },
    {
      "cell_type": "markdown",
      "metadata": {
        "id": "N3t18AHtVinL"
      },
      "source": [
        "And youcan see that when you try to multiply A and B, it returns `ValueError` pertaining to matrix shape mismatch."
      ]
    },
    {
      "cell_type": "markdown",
      "metadata": {
        "id": "tSKnE6hCS4Ji"
      },
      "source": [
        "### Rule 2: Dot Product has special properties\n",
        "\n",
        "Dot products are prevalent in matrix algebra, this implies that it has several unique properties and it should be considered when formulation solutions:\n",
        " 1. $A \\cdot B \\neq B \\cdot A$\n",
        " 2. $A \\cdot (B \\cdot C) = (A \\cdot B) \\cdot C$\n",
        " 3. $A\\cdot(B+C) = A\\cdot B + A\\cdot C$\n",
        " 4. $(B+C)\\cdot A = B\\cdot A + C\\cdot A$\n",
        " 5. $A\\cdot I = A$\n",
        " 6. $A\\cdot \\emptyset = \\emptyset$ "
      ]
    },
    {
      "cell_type": "markdown",
      "metadata": {
        "id": "7xJxYPWgV5hz"
      },
      "source": [
        "### Try Your Own Matrix Code"
      ]
    },
    {
      "cell_type": "code",
      "metadata": {
        "colab": {
          "base_uri": "https://localhost:8080/"
        },
        "id": "6V5VGEZDS9hN",
        "outputId": "6807d8a8-963a-4a7e-fbdc-1ce10babd553"
      },
      "source": [
        "L = np.array([\n",
        "              [1,2,3],\n",
        "              [4,5,6],\n",
        "              [7,8,9]\n",
        "])\n",
        "M = np.array([\n",
        "              [9,8,7],\n",
        "              [6,5,4],\n",
        "              [9,2,9]\n",
        "])\n",
        "N = np.array([\n",
        "              [4,32,9],\n",
        "              [9,5,1],\n",
        "              [9,9,-9]\n",
        "])\n",
        "print(L.shape)\n",
        "print(M.shape)\n",
        "print(N.shape)"
      ],
      "execution_count": null,
      "outputs": [
        {
          "output_type": "stream",
          "name": "stdout",
          "text": [
            "(3, 3)\n",
            "(3, 3)\n",
            "(3, 3)\n"
          ]
        }
      ]
    },
    {
      "cell_type": "code",
      "metadata": {
        "colab": {
          "base_uri": "https://localhost:8080/"
        },
        "id": "om1oLciWXjw_",
        "outputId": "089f0338-bfc1-4bcc-e7f2-c693748a1f9b"
      },
      "source": [
        "np.eye(3)"
      ],
      "execution_count": null,
      "outputs": [
        {
          "output_type": "execute_result",
          "data": {
            "text/plain": [
              "array([[1., 0., 0.],\n",
              "       [0., 1., 0.],\n",
              "       [0., 0., 1.]])"
            ]
          },
          "metadata": {},
          "execution_count": 27
        }
      ]
    },
    {
      "cell_type": "code",
      "metadata": {
        "colab": {
          "base_uri": "https://localhost:8080/"
        },
        "id": "CwrSv--LXriC",
        "outputId": "ded6bbf1-4523-46c2-e6c6-2d36b7be9b4a"
      },
      "source": [
        "L.dot(np.eye(3))"
      ],
      "execution_count": null,
      "outputs": [
        {
          "output_type": "execute_result",
          "data": {
            "text/plain": [
              "array([[1., 2., 3.],\n",
              "       [4., 5., 6.],\n",
              "       [7., 8., 9.]])"
            ]
          },
          "metadata": {},
          "execution_count": 28
        }
      ]
    },
    {
      "cell_type": "code",
      "metadata": {
        "colab": {
          "base_uri": "https://localhost:8080/"
        },
        "id": "Rz_ii5dLY2-l",
        "outputId": "d7bb2b14-7d96-4169-99e5-1b0d314e1f1f"
      },
      "source": [
        "np.array_equal(L@M, M@L)"
      ],
      "execution_count": null,
      "outputs": [
        {
          "output_type": "execute_result",
          "data": {
            "text/plain": [
              "False"
            ]
          },
          "metadata": {},
          "execution_count": 38
        }
      ]
    },
    {
      "cell_type": "code",
      "metadata": {
        "colab": {
          "base_uri": "https://localhost:8080/"
        },
        "id": "pW8-dA4kYGtU",
        "outputId": "3fd032ce-b48c-43be-8c6e-f13f12cc8b3b"
      },
      "source": [
        "James = L @ (M @ N)\n",
        "James"
      ],
      "execution_count": null,
      "outputs": [
        {
          "output_type": "execute_result",
          "data": {
            "text/plain": [
              "array([[ 786, 2034,   78],\n",
              "       [2019, 5103,  231],\n",
              "       [3252, 8172,  384]])"
            ]
          },
          "metadata": {},
          "execution_count": 39
        }
      ]
    },
    {
      "cell_type": "code",
      "metadata": {
        "colab": {
          "base_uri": "https://localhost:8080/"
        },
        "id": "D9-3tlhZTz5d",
        "outputId": "8f49bb5f-f197-43fe-9d4b-00300347c641"
      },
      "source": [
        "Carl = L @ M\n",
        "Carl"
      ],
      "execution_count": null,
      "outputs": [
        {
          "output_type": "execute_result",
          "data": {
            "text/plain": [
              "array([[ 48,  24,  42],\n",
              "       [120,  69, 102],\n",
              "       [192, 114, 162]])"
            ]
          },
          "metadata": {},
          "execution_count": 32
        }
      ]
    },
    {
      "cell_type": "code",
      "metadata": {
        "colab": {
          "base_uri": "https://localhost:8080/"
        },
        "id": "8L-PuIS4UBCa",
        "outputId": "7d129617-186a-4471-e997-a7881bcc5f84"
      },
      "source": [
        "Bayking = (L @ M) @ N\n",
        "Bayking"
      ],
      "execution_count": null,
      "outputs": [
        {
          "output_type": "execute_result",
          "data": {
            "text/plain": [
              "array([[ 786, 2034,   78],\n",
              "       [2019, 5103,  231],\n",
              "       [3252, 8172,  384]])"
            ]
          },
          "metadata": {},
          "execution_count": 40
        }
      ]
    },
    {
      "cell_type": "code",
      "metadata": {
        "colab": {
          "base_uri": "https://localhost:8080/"
        },
        "id": "IMLuhMH6YQEq",
        "outputId": "4b318adc-8aa5-47ba-b233-53b9acc43e8b"
      },
      "source": [
        "np.array_equal(James, Carl)"
      ],
      "execution_count": null,
      "outputs": [
        {
          "output_type": "execute_result",
          "data": {
            "text/plain": [
              "False"
            ]
          },
          "metadata": {},
          "execution_count": 42
        }
      ]
    },
    {
      "cell_type": "code",
      "metadata": {
        "colab": {
          "base_uri": "https://localhost:8080/"
        },
        "id": "gWwkWB8wVXBz",
        "outputId": "4f7e091c-9e0d-490c-8e75-f7c2352a520e"
      },
      "source": [
        "np.array_equiv(James, Bayking)"
      ],
      "execution_count": null,
      "outputs": [
        {
          "output_type": "execute_result",
          "data": {
            "text/plain": [
              "True"
            ]
          },
          "metadata": {},
          "execution_count": 41
        }
      ]
    },
    {
      "cell_type": "code",
      "metadata": {
        "colab": {
          "base_uri": "https://localhost:8080/",
          "height": 279
        },
        "id": "nimf4O_ZZUia",
        "outputId": "1e486fd5-5abd-4045-bc82-7aca0ff8ab24"
      },
      "source": [
        "np.eye(L)"
      ],
      "execution_count": null,
      "outputs": [
        {
          "output_type": "error",
          "ename": "TypeError",
          "evalue": "ignored",
          "traceback": [
            "\u001b[0;31m---------------------------------------------------------------------------\u001b[0m",
            "\u001b[0;31mTypeError\u001b[0m                                 Traceback (most recent call last)",
            "\u001b[0;32m<ipython-input-44-9c59090f6b9c>\u001b[0m in \u001b[0;36m<module>\u001b[0;34m()\u001b[0m\n\u001b[0;32m----> 1\u001b[0;31m \u001b[0mnp\u001b[0m\u001b[0;34m.\u001b[0m\u001b[0meye\u001b[0m\u001b[0;34m(\u001b[0m\u001b[0mL\u001b[0m\u001b[0;34m)\u001b[0m\u001b[0;34m\u001b[0m\u001b[0;34m\u001b[0m\u001b[0m\n\u001b[0m",
            "\u001b[0;32m/usr/local/lib/python3.7/dist-packages/numpy/lib/twodim_base.py\u001b[0m in \u001b[0;36meye\u001b[0;34m(N, M, k, dtype, order)\u001b[0m\n\u001b[1;32m    197\u001b[0m     \u001b[0;32mif\u001b[0m \u001b[0mM\u001b[0m \u001b[0;32mis\u001b[0m \u001b[0;32mNone\u001b[0m\u001b[0;34m:\u001b[0m\u001b[0;34m\u001b[0m\u001b[0;34m\u001b[0m\u001b[0m\n\u001b[1;32m    198\u001b[0m         \u001b[0mM\u001b[0m \u001b[0;34m=\u001b[0m \u001b[0mN\u001b[0m\u001b[0;34m\u001b[0m\u001b[0;34m\u001b[0m\u001b[0m\n\u001b[0;32m--> 199\u001b[0;31m     \u001b[0mm\u001b[0m \u001b[0;34m=\u001b[0m \u001b[0mzeros\u001b[0m\u001b[0;34m(\u001b[0m\u001b[0;34m(\u001b[0m\u001b[0mN\u001b[0m\u001b[0;34m,\u001b[0m \u001b[0mM\u001b[0m\u001b[0;34m)\u001b[0m\u001b[0;34m,\u001b[0m \u001b[0mdtype\u001b[0m\u001b[0;34m=\u001b[0m\u001b[0mdtype\u001b[0m\u001b[0;34m,\u001b[0m \u001b[0morder\u001b[0m\u001b[0;34m=\u001b[0m\u001b[0morder\u001b[0m\u001b[0;34m)\u001b[0m\u001b[0;34m\u001b[0m\u001b[0;34m\u001b[0m\u001b[0m\n\u001b[0m\u001b[1;32m    200\u001b[0m     \u001b[0;32mif\u001b[0m \u001b[0mk\u001b[0m \u001b[0;34m>=\u001b[0m \u001b[0mM\u001b[0m\u001b[0;34m:\u001b[0m\u001b[0;34m\u001b[0m\u001b[0;34m\u001b[0m\u001b[0m\n\u001b[1;32m    201\u001b[0m         \u001b[0;32mreturn\u001b[0m \u001b[0mm\u001b[0m\u001b[0;34m\u001b[0m\u001b[0;34m\u001b[0m\u001b[0m\n",
            "\u001b[0;31mTypeError\u001b[0m: only integer scalar arrays can be converted to a scalar index"
          ]
        }
      ]
    },
    {
      "cell_type": "code",
      "metadata": {
        "colab": {
          "base_uri": "https://localhost:8080/"
        },
        "id": "bP-ntDncZfiv",
        "outputId": "6127c047-aca9-4fd1-bb59-5de7d45f5e3e"
      },
      "source": [
        "L @ James"
      ],
      "execution_count": null,
      "outputs": [
        {
          "output_type": "execute_result",
          "data": {
            "text/plain": [
              "array([[ 14580,  36756,   1692],\n",
              "       [ 32751,  82683,   3771],\n",
              "       [ 50922, 128610,   5850]])"
            ]
          },
          "metadata": {},
          "execution_count": 45
        }
      ]
    },
    {
      "cell_type": "code",
      "metadata": {
        "colab": {
          "base_uri": "https://localhost:8080/"
        },
        "id": "LPIbLgurZi2i",
        "outputId": "a90d23bb-b5df-4e70-cc01-77c350be065b"
      },
      "source": [
        "z_mat = np.zeros(L.shape)\n",
        "z_mat"
      ],
      "execution_count": null,
      "outputs": [
        {
          "output_type": "execute_result",
          "data": {
            "text/plain": [
              "array([[0., 0., 0.],\n",
              "       [0., 0., 0.],\n",
              "       [0., 0., 0.]])"
            ]
          },
          "metadata": {},
          "execution_count": 47
        }
      ]
    },
    {
      "cell_type": "code",
      "metadata": {
        "colab": {
          "base_uri": "https://localhost:8080/"
        },
        "id": "rOzSuyxKZvEr",
        "outputId": "c4ea5e9b-5f3d-43a1-a2f4-fd18b98affac"
      },
      "source": [
        "a_dot_z = L.dot(np.zeros(L.shape))\n",
        "a_dot_z"
      ],
      "execution_count": null,
      "outputs": [
        {
          "output_type": "execute_result",
          "data": {
            "text/plain": [
              "array([[0., 0., 0.],\n",
              "       [0., 0., 0.],\n",
              "       [0., 0., 0.]])"
            ]
          },
          "metadata": {},
          "execution_count": 50
        }
      ]
    },
    {
      "cell_type": "code",
      "metadata": {
        "colab": {
          "base_uri": "https://localhost:8080/"
        },
        "id": "K-b4NnNQaQ96",
        "outputId": "5cd28307-7106-4af8-c792-e5af8ae48ac9"
      },
      "source": [
        "np.array_equal(z_mat, a_dot_z)"
      ],
      "execution_count": null,
      "outputs": [
        {
          "output_type": "execute_result",
          "data": {
            "text/plain": [
              "True"
            ]
          },
          "metadata": {},
          "execution_count": 51
        }
      ]
    },
    {
      "cell_type": "code",
      "metadata": {
        "colab": {
          "base_uri": "https://localhost:8080/"
        },
        "id": "LanbhctMaeRK",
        "outputId": "6b4a5508-4eb9-430b-beaa-040a66b53a22"
      },
      "source": [
        "null_mat = np.empty(L.shape, dtype=float)\n",
        "null = np.array(null_mat,dtype=float)\n",
        "print(null)\n",
        "np.allclose(a_dot_z,null)"
      ],
      "execution_count": null,
      "outputs": [
        {
          "output_type": "stream",
          "name": "stdout",
          "text": [
            "[[0. 0. 0.]\n",
            " [0. 0. 0.]\n",
            " [0. 0. 0.]]\n"
          ]
        },
        {
          "output_type": "execute_result",
          "data": {
            "text/plain": [
              "True"
            ]
          },
          "metadata": {},
          "execution_count": 53
        }
      ]
    },
    {
      "cell_type": "markdown",
      "metadata": {
        "id": "2muYdWd5ZAfT"
      },
      "source": [
        "###$ Determinant$\n",
        "\n",
        "A determinant is a scalar value derived from a square matrix. The determinant is a fundamental and important value used in matrix algebra. Although it will not be evident in this laboratory on how it can be used practically, but it will be reatly used in future lessons.\n",
        "\n",
        "The determinant of some matrix $A$ is denoted as $det(A)$ or $|A|$. So let's say $A$ is represented as:\n",
        "$$A = \\begin{bmatrix}a_{(0,0)}&a_{(0,1)}\\\\a_{(1,0)}&a_{(1,1)}\\end{bmatrix}$$\n",
        "We can compute for the determinant as:\n",
        "$$|A| = a_{(0,0)}*a_{(1,1)} - a_{(1,0)}*a_{(0,1)}$$\n",
        "So if we have $A$ as:\n",
        "$$A = \\begin{bmatrix}1&4\\\\0&3\\end{bmatrix}, |A| = 3$$\n",
        "\n",
        "But you might wonder how about square matrices beyond the shape $(2,2)$? We can approach this problem by using several methods such as co-factor expansion and the minors method. This can be taught in the lecture of the laboratory but we can achieve the strenuous computation of high-dimensional matrices programmatically using Python. We can achieve this by using `np.linalg.det()`."
      ]
    },
    {
      "cell_type": "code",
      "metadata": {
        "colab": {
          "base_uri": "https://localhost:8080/"
        },
        "id": "7eJqHj8wZCOC",
        "outputId": "c9919663-201d-4d70-f8b3-33e519d164ca"
      },
      "source": [
        "A = np.array([\n",
        "             [1,4],\n",
        "              [0,3] \n",
        "])\n",
        "np.linalg.det(A)"
      ],
      "execution_count": null,
      "outputs": [
        {
          "output_type": "execute_result",
          "data": {
            "text/plain": [
              "3.0000000000000004"
            ]
          },
          "metadata": {},
          "execution_count": 54
        }
      ]
    },
    {
      "cell_type": "code",
      "metadata": {
        "colab": {
          "base_uri": "https://localhost:8080/"
        },
        "id": "17g5sf7iZqn5",
        "outputId": "7aa624d9-0542-44da-ae58-77e9d94975d3"
      },
      "source": [
        "B = np.array([\n",
        "              [1, 5, 2],\n",
        "              [3, -1, -1],\n",
        "              [0, -2, 1]\n",
        "])\n",
        "np.linalg.det(B)"
      ],
      "execution_count": null,
      "outputs": [
        {
          "output_type": "execute_result",
          "data": {
            "text/plain": [
              "-30.000000000000014"
            ]
          },
          "metadata": {},
          "execution_count": 55
        }
      ]
    },
    {
      "cell_type": "code",
      "metadata": {
        "id": "ae84du6HZ8Xi",
        "colab": {
          "base_uri": "https://localhost:8080/"
        },
        "outputId": "7c2a6fa7-c062-4d7b-fafe-aac781252e5c"
      },
      "source": [
        "B = np.array([\n",
        "    [1,3,5,6],\n",
        "    [0,3,1,3],\n",
        "    [3,1,8,2],\n",
        "    [5,2,6,8]\n",
        "])\n",
        "np.linalg.det(B)"
      ],
      "execution_count": null,
      "outputs": [
        {
          "output_type": "execute_result",
          "data": {
            "text/plain": [
              "-235.0000000000002"
            ]
          },
          "metadata": {},
          "execution_count": 56
        }
      ]
    },
    {
      "cell_type": "markdown",
      "metadata": {
        "id": "eDDkRxsGaSvI"
      },
      "source": [
        "### $Inverse$\n",
        "\n",
        "The inverse of a matrix is another fundamental operation in matrix algebra. Determining the inverse of a matrix let us determine if its solvability and its characteristic as a system of linear equation — we'll expand on this in the nect module. Another use of the inverse matrix is solving the problem of divisibility between matrices. Although element-wise division exists but dividing the entire concept of matrices does not exists. Inverse matrices provides a related operation that could have the same concept of \"dividing\" matrices.\n",
        "\n",
        "Now to determine the inverse of a matrix we need to perform several steps. So let's say we have a matrix $M$:\n",
        "$$M = \\begin{bmatrix}1&7\\\\-3&5\\end{bmatrix}$$\n",
        "First, we need to get the determinant of $M$.\n",
        "$$|M| = (1)(5)-(-3)(7) = 26$$\n",
        "Next, we need to reform the matrix into the inverse form:\n",
        "$$M^{-1} = \\frac{1}{|M|} \\begin{bmatrix} m_{(1,1)} & -m_{(0,1)} \\\\ -m_{(1,0)} & m_{(0,0)}\\end{bmatrix}$$\n",
        "So that will be:\n",
        "$$M^{-1} = \\frac{1}{26} \\begin{bmatrix} 5 & -7 \\\\ 3 & 1\\end{bmatrix} = \\begin{bmatrix} \\frac{5}{26} & \\frac{-7}{26} \\\\ \\frac{3}{26} & \\frac{1}{26}\\end{bmatrix}$$\n",
        "For higher-dimension matrices you might need to use co-factors, minors, adjugates, and other reduction techinques. To solve this programmatially we can use `np.linalg.inv()`."
      ]
    },
    {
      "cell_type": "code",
      "metadata": {
        "colab": {
          "base_uri": "https://localhost:8080/"
        },
        "id": "jy7hO16kaUwB",
        "outputId": "491dec05-60c5-4e14-d2ee-86e5ed0378ab"
      },
      "source": [
        "M = np.array([\n",
        "              [1, 7],\n",
        "              [-3, 5]\n",
        "])\n",
        "np.array(M @ np.linalg.inv(M), dtype=int )"
      ],
      "execution_count": null,
      "outputs": [
        {
          "output_type": "execute_result",
          "data": {
            "text/plain": [
              "array([[1, 0],\n",
              "       [0, 1]])"
            ]
          },
          "metadata": {},
          "execution_count": 57
        }
      ]
    },
    {
      "cell_type": "code",
      "metadata": {
        "colab": {
          "base_uri": "https://localhost:8080/"
        },
        "id": "-0YN6OWQa5DB",
        "outputId": "11d595f0-c01e-410c-9570-4751ea697ea6"
      },
      "source": [
        "P = np.array([\n",
        "              [6, 9, 0],\n",
        "              [4, 2, -1],\n",
        "              [3, 6, 7]\n",
        "])\n",
        "Q = np.linalg.inv(P)\n",
        "Q"
      ],
      "execution_count": null,
      "outputs": [
        {
          "output_type": "execute_result",
          "data": {
            "text/plain": [
              "array([[-0.12578616,  0.39622642,  0.05660377],\n",
              "       [ 0.19496855, -0.26415094, -0.03773585],\n",
              "       [-0.11320755,  0.05660377,  0.1509434 ]])"
            ]
          },
          "metadata": {},
          "execution_count": 58
        }
      ]
    },
    {
      "cell_type": "code",
      "metadata": {
        "colab": {
          "base_uri": "https://localhost:8080/"
        },
        "id": "devfV4sRbmD5",
        "outputId": "8d748552-5bb9-4286-ae44-88746b1e2b5b"
      },
      "source": [
        "P @ Q"
      ],
      "execution_count": null,
      "outputs": [
        {
          "output_type": "execute_result",
          "data": {
            "text/plain": [
              "array([[ 1.00000000e+00, -5.55111512e-17, -6.93889390e-18],\n",
              "       [ 8.32667268e-17,  1.00000000e+00, -2.77555756e-17],\n",
              "       [ 2.77555756e-17, -1.38777878e-17,  1.00000000e+00]])"
            ]
          },
          "metadata": {},
          "execution_count": 59
        }
      ]
    },
    {
      "cell_type": "code",
      "metadata": {
        "colab": {
          "base_uri": "https://localhost:8080/"
        },
        "id": "1yVlIBwmdx6Q",
        "outputId": "fc5f533f-7c49-41a3-bfd2-811531b99b8a"
      },
      "source": [
        "N = np.array([\n",
        "    [18,5,23,1,0,33,5],\n",
        "    [0,45,0,11,2,4,2],\n",
        "    [5,9,20,0,0,0,3],\n",
        "    [1,6,4,4,8,43,1],\n",
        "    [8,6,8,7,1,6,1],\n",
        "    [-5,15,2,0,0,6,-30],\n",
        "    [-2,-5,1,2,1,20,12],\n",
        "])\n",
        "N_inv = np.linalg.inv(N)\n",
        "np.array(N @ N_inv,dtype=int)"
      ],
      "execution_count": null,
      "outputs": [
        {
          "output_type": "execute_result",
          "data": {
            "text/plain": [
              "array([[0, 0, 0, 0, 0, 0, 0],\n",
              "       [0, 0, 0, 0, 0, 0, 0],\n",
              "       [0, 0, 1, 0, 0, 0, 0],\n",
              "       [0, 0, 0, 1, 0, 0, 0],\n",
              "       [0, 0, 0, 0, 0, 0, 0],\n",
              "       [0, 0, 0, 0, 0, 0, 0],\n",
              "       [0, 0, 0, 0, 0, 0, 1]])"
            ]
          },
          "metadata": {},
          "execution_count": 60
        }
      ]
    },
    {
      "cell_type": "markdown",
      "metadata": {
        "id": "KQHak_3Qd3qJ"
      },
      "source": [
        "To validate the wether if the matric that you have solved is really the inverse, we follow this dot product property for a matrix $M$:\n",
        "$$M\\cdot M^{-1} = I$$"
      ]
    },
    {
      "cell_type": "code",
      "metadata": {
        "colab": {
          "base_uri": "https://localhost:8080/"
        },
        "id": "ofzL4PyVd6xY",
        "outputId": "55297dd5-b48f-49c3-d89a-9a188fee94b4"
      },
      "source": [
        "squad = np.array([\n",
        "    [1.0, 1.0, 0.5],\n",
        "    [0.7, 0.7, 0.9],\n",
        "    [0.3, 0.3, 1.0]\n",
        "])\n",
        "weights = np.array([\n",
        "    [0.2, 0.2, 0.6]\n",
        "])\n",
        "p_grade = squad @ weights.T\n",
        "p_grade"
      ],
      "execution_count": null,
      "outputs": [
        {
          "output_type": "execute_result",
          "data": {
            "text/plain": [
              "array([[0.7 ],\n",
              "       [0.82],\n",
              "       [0.72]])"
            ]
          },
          "metadata": {},
          "execution_count": 61
        }
      ]
    },
    {
      "cell_type": "markdown",
      "metadata": {
        "id": "PF3HkRQbeAx6"
      },
      "source": [
        "### $ACTIVITY:$\n",
        "\n",
        "### $TASK # 1:$\n",
        "Prove and implement the remaining 6 matrix multiplication properties. You may create your own matrices in which their shapes should not be lower than $(3,3)$.\n",
        "In your methodology, create individual flowcharts for each property and discuss the property you would then present your proofs or validity of your implementation in the results section by comparing your result to present functions from NumPy."
      ]
    },
    {
      "cell_type": "markdown",
      "metadata": {
        "id": "1aRPQGNVnjFg"
      },
      "source": [
        "$#1$"
      ]
    },
    {
      "cell_type": "code",
      "metadata": {
        "colab": {
          "base_uri": "https://localhost:8080/"
        },
        "id": "IYE-mqhneY8x",
        "outputId": "25d760d3-93b0-4dd8-9889-e00972a3bb9e"
      },
      "source": [
        "(1) ## A.B =/= to B.A \n",
        "A = np.array([\n",
        "              [1,2,3,4],\n",
        "              [4,5,6,7],\n",
        "              [7,8,9,0],\n",
        "              [4,3,2,1]\n",
        "])\n",
        "B = np.array([\n",
        "              [9,8,7,6],\n",
        "              [6,5,4,3],\n",
        "              [9,2,9,0],\n",
        "              [1,2,3,4]\n",
        "])\n",
        "\n",
        "print(A.shape)\n",
        "print(B.shape)\n",
        "James = A @ B\n",
        "Bayking = B @ A"
      ],
      "execution_count": null,
      "outputs": [
        {
          "output_type": "stream",
          "name": "stdout",
          "text": [
            "(4, 4)\n",
            "(4, 4)\n"
          ]
        }
      ]
    },
    {
      "cell_type": "code",
      "metadata": {
        "colab": {
          "base_uri": "https://localhost:8080/"
        },
        "id": "gi8SamFchapp",
        "outputId": "f92e23ca-df5a-4505-d56f-53fa1f9e4273"
      },
      "source": [
        "np.array_equiv(James, Bayking)"
      ],
      "execution_count": null,
      "outputs": [
        {
          "output_type": "execute_result",
          "data": {
            "text/plain": [
              "False"
            ]
          },
          "metadata": {},
          "execution_count": 5
        }
      ]
    },
    {
      "cell_type": "markdown",
      "metadata": {
        "id": "3_R0NhbunfrU"
      },
      "source": [
        "$#2$"
      ]
    },
    {
      "cell_type": "code",
      "metadata": {
        "colab": {
          "base_uri": "https://localhost:8080/"
        },
        "id": "qJJ4JvgAiQse",
        "outputId": "dd7e22c5-91ab-4ef5-88c3-e716336f8ac9"
      },
      "source": [
        "(2) ## A@(B@C) = (A@B)@C\n",
        "A_2 = np.array([\n",
        "              [1,2,3,4],\n",
        "              [4,5,6,7],\n",
        "              [72,8,8,0],\n",
        "              [1,3,2,9]\n",
        "])\n",
        "B_2 = np.array([\n",
        "              [1,71,2,96],\n",
        "              [9,1,2,6],\n",
        "              [9,2,9,0],\n",
        "              [1,2,3,4]\n",
        "              \n",
        "])\n",
        "C_2 = np.array([\n",
        "              [1,2,3,4],\n",
        "              [5,6,7,8],\n",
        "              [1,0,9,9],\n",
        "              [1,2,3,4]\n",
        "])\n",
        "print(A_2.shape)\n",
        "print(B_2.shape)\n",
        "print(C_2.shape)\n",
        "J_2 = A_2 @ (B_2 @ C_2)\n",
        "B_2 = (A_2 @ B_2) @ C_2"
      ],
      "execution_count": null,
      "outputs": [
        {
          "output_type": "stream",
          "name": "stdout",
          "text": [
            "(4, 4)\n",
            "(4, 4)\n",
            "(4, 4)\n"
          ]
        }
      ]
    },
    {
      "cell_type": "code",
      "metadata": {
        "colab": {
          "base_uri": "https://localhost:8080/"
        },
        "id": "MLhNHAVfotbv",
        "outputId": "1bbdb4d6-b64b-4c7e-f914-8ea7f03f3b24"
      },
      "source": [
        "J_2"
      ],
      "execution_count": null,
      "outputs": [
        {
          "output_type": "execute_result",
          "data": {
            "text/plain": [
              "array([[  654,   870,  1536,  1797],\n",
              "       [ 2220,  2994,  4698,  5565],\n",
              "       [33088, 45168, 59568, 71880],\n",
              "       [  738,   986,  1764,  2065]])"
            ]
          },
          "metadata": {},
          "execution_count": 18
        }
      ]
    },
    {
      "cell_type": "code",
      "metadata": {
        "colab": {
          "base_uri": "https://localhost:8080/"
        },
        "id": "XoqNcaRpowa_",
        "outputId": "330d0ec7-0220-4fd4-f034-107c413de498"
      },
      "source": [
        "B_2"
      ],
      "execution_count": null,
      "outputs": [
        {
          "output_type": "execute_result",
          "data": {
            "text/plain": [
              "array([[  654,   870,  1536,  1797],\n",
              "       [ 2220,  2994,  4698,  5565],\n",
              "       [33088, 45168, 59568, 71880],\n",
              "       [  738,   986,  1764,  2065]])"
            ]
          },
          "metadata": {},
          "execution_count": 19
        }
      ]
    },
    {
      "cell_type": "code",
      "metadata": {
        "colab": {
          "base_uri": "https://localhost:8080/"
        },
        "id": "l5uCmfi3o6rr",
        "outputId": "5c922193-f70d-42d8-b39c-05ca0f2f081f"
      },
      "source": [
        "np.array_equiv(J_2, B_2)"
      ],
      "execution_count": null,
      "outputs": [
        {
          "output_type": "execute_result",
          "data": {
            "text/plain": [
              "True"
            ]
          },
          "metadata": {},
          "execution_count": 20
        }
      ]
    },
    {
      "cell_type": "markdown",
      "metadata": {
        "id": "zIFdBTHgnbUJ"
      },
      "source": [
        "$#3$"
      ]
    },
    {
      "cell_type": "code",
      "metadata": {
        "colab": {
          "base_uri": "https://localhost:8080/"
        },
        "id": "fveodhSgis9T",
        "outputId": "549ea644-b3a0-471d-f024-9d07201acfe0"
      },
      "source": [
        "(3) ## A@(B+C) = A@B + A@C\n",
        "A = np.array([\n",
        "              [1,2,3,4],\n",
        "              [4,5,6,7],\n",
        "              [7,8,9,0],\n",
        "              [4,3,2,1]\n",
        "])\n",
        "B = np.array([\n",
        "              [9,8,7,6],\n",
        "              [6,5,4,3],\n",
        "              [9,2,9,0],\n",
        "              [1,2,3,4]\n",
        "              \n",
        "])\n",
        "C = np.array([\n",
        "              [1,2,3,4],\n",
        "              [5,6,7,8],\n",
        "              [1,0,9,9],\n",
        "              [1,2,3,4]\n",
        "])\n",
        "print(A.shape)\n",
        "print(B.shape)\n",
        "print(C.shape)\n",
        "James = A @ (B + C)\n",
        "Bayking = A @ B + A @ C\n",
        "James"
      ],
      "execution_count": null,
      "outputs": [
        {
          "output_type": "stream",
          "name": "stdout",
          "text": [
            "(4, 4)\n",
            "(4, 4)\n",
            "(4, 4)\n"
          ]
        },
        {
          "output_type": "execute_result",
          "data": {
            "text/plain": [
              "array([[ 70,  54, 110,  91],\n",
              "       [169, 135, 245, 205],\n",
              "       [248, 176, 320, 239],\n",
              "       [ 95,  81, 115,  99]])"
            ]
          },
          "metadata": {},
          "execution_count": 106
        }
      ]
    },
    {
      "cell_type": "code",
      "metadata": {
        "colab": {
          "base_uri": "https://localhost:8080/"
        },
        "id": "uyyjuuAonSPq",
        "outputId": "20fc5c8b-b91e-4867-b898-b2d852c7c86e"
      },
      "source": [
        "Bayking"
      ],
      "execution_count": null,
      "outputs": [
        {
          "output_type": "execute_result",
          "data": {
            "text/plain": [
              "array([[ 70,  54, 110,  91],\n",
              "       [169, 135, 245, 205],\n",
              "       [248, 176, 320, 239],\n",
              "       [ 95,  81, 115,  99]])"
            ]
          },
          "metadata": {},
          "execution_count": 107
        }
      ]
    },
    {
      "cell_type": "code",
      "metadata": {
        "colab": {
          "base_uri": "https://localhost:8080/"
        },
        "id": "t0akhBs7kLLv",
        "outputId": "c163e2fd-36c0-44e3-b5e3-6c78a38374da"
      },
      "source": [
        "np.array_equal(James, Bayking)"
      ],
      "execution_count": null,
      "outputs": [
        {
          "output_type": "execute_result",
          "data": {
            "text/plain": [
              "True"
            ]
          },
          "metadata": {},
          "execution_count": 108
        }
      ]
    },
    {
      "cell_type": "markdown",
      "metadata": {
        "id": "v7bgcpE_nVvv"
      },
      "source": [
        "$#4$"
      ]
    },
    {
      "cell_type": "code",
      "metadata": {
        "colab": {
          "base_uri": "https://localhost:8080/"
        },
        "id": "wEbDh-Sqk3N4",
        "outputId": "f2db8e89-6a18-4748-94f5-27fcfd9b2e69"
      },
      "source": [
        "(4) ##(B+C)@A = B@A + C.A\n",
        "A = np.array([\n",
        "              [1,2,3,4],\n",
        "              [9,9,8,8],\n",
        "              [1,2,3,4],\n",
        "              [1,1,1,1]\n",
        "])\n",
        "B = np.array([\n",
        "              [9,8,7,6],\n",
        "              [2,0,1,2],\n",
        "              [1,2,3,4],\n",
        "              [1,2,3,4]\n",
        "              \n",
        "])\n",
        "C = np.array([\n",
        "              [1,4,2,3],\n",
        "              [5,6,7,8],\n",
        "              [1,0,9,9],\n",
        "              [7.5,9,1,2]\n",
        "])\n",
        "print(A.shape)\n",
        "print(B.shape)\n",
        "print(C.shape)\n",
        "J_4 = (B + C) @ A\n",
        "B_4 = B @ A + C @ A\n",
        "J_4"
      ],
      "execution_count": null,
      "outputs": [
        {
          "output_type": "stream",
          "name": "stdout",
          "text": [
            "(4, 4)\n",
            "(4, 4)\n",
            "(4, 4)\n"
          ]
        },
        {
          "output_type": "execute_result",
          "data": {
            "text/plain": [
              "array([[136. , 155. , 162. , 181. ],\n",
              "       [ 79. ,  94. , 103. , 118. ],\n",
              "       [ 45. ,  59. ,  71. ,  85. ],\n",
              "       [117.5, 130. , 131.5, 144. ]])"
            ]
          },
          "metadata": {},
          "execution_count": 21
        }
      ]
    },
    {
      "cell_type": "code",
      "metadata": {
        "colab": {
          "base_uri": "https://localhost:8080/"
        },
        "id": "dood33Kcm6DZ",
        "outputId": "d4f7a9ff-fcc3-4b2e-a24c-d94a042d3c92"
      },
      "source": [
        "B_4"
      ],
      "execution_count": null,
      "outputs": [
        {
          "output_type": "execute_result",
          "data": {
            "text/plain": [
              "array([[136. , 155. , 162. , 181. ],\n",
              "       [ 79. ,  94. , 103. , 118. ],\n",
              "       [ 45. ,  59. ,  71. ,  85. ],\n",
              "       [117.5, 130. , 131.5, 144. ]])"
            ]
          },
          "metadata": {},
          "execution_count": 22
        }
      ]
    },
    {
      "cell_type": "code",
      "metadata": {
        "colab": {
          "base_uri": "https://localhost:8080/"
        },
        "id": "so2vDhn6mYA9",
        "outputId": "36b4acce-1219-47c1-aa23-9bfeb0ccc331"
      },
      "source": [
        "np.array_equal(J_4 , B_4)"
      ],
      "execution_count": null,
      "outputs": [
        {
          "output_type": "execute_result",
          "data": {
            "text/plain": [
              "True"
            ]
          },
          "metadata": {},
          "execution_count": 24
        }
      ]
    },
    {
      "cell_type": "markdown",
      "metadata": {
        "id": "0-DDatlynm7H"
      },
      "source": [
        "$#5$"
      ]
    },
    {
      "cell_type": "code",
      "metadata": {
        "colab": {
          "base_uri": "https://localhost:8080/"
        },
        "id": "5RjfUCGLnotb",
        "outputId": "47a6cb35-eb7e-4594-8f1c-ff9f1e91d677"
      },
      "source": [
        "(5) ## A @ I = A\n",
        "np.identity(4)\n"
      ],
      "execution_count": null,
      "outputs": [
        {
          "output_type": "execute_result",
          "data": {
            "text/plain": [
              "array([[1., 0., 0., 0.],\n",
              "       [0., 1., 0., 0.],\n",
              "       [0., 0., 1., 0.],\n",
              "       [0., 0., 0., 1.]])"
            ]
          },
          "metadata": {},
          "execution_count": 39
        }
      ]
    },
    {
      "cell_type": "code",
      "metadata": {
        "id": "V-glVnQ8JUTk"
      },
      "source": [
        "A_5 = np.array ([\n",
        "                 [8,7,6,5],\n",
        "                 [1,9,0,9],\n",
        "                 [7,7,7,7],\n",
        "                 [1,2,9,8]\n",
        "])"
      ],
      "execution_count": null,
      "outputs": []
    },
    {
      "cell_type": "code",
      "metadata": {
        "colab": {
          "base_uri": "https://localhost:8080/"
        },
        "id": "kDr3Bsa2JVpI",
        "outputId": "9b1a5d2b-baf3-4963-b602-f7285d26b959"
      },
      "source": [
        "A_5.dot(np.identity(4))"
      ],
      "execution_count": null,
      "outputs": [
        {
          "output_type": "execute_result",
          "data": {
            "text/plain": [
              "array([[8., 7., 6., 5.],\n",
              "       [1., 9., 0., 9.],\n",
              "       [7., 7., 7., 7.],\n",
              "       [1., 2., 9., 8.]])"
            ]
          },
          "metadata": {},
          "execution_count": 35
        }
      ]
    },
    {
      "cell_type": "code",
      "metadata": {
        "colab": {
          "base_uri": "https://localhost:8080/"
        },
        "id": "mnCaNb9KJiUW",
        "outputId": "80e40553-16a7-47eb-912f-94e8d4887e8d"
      },
      "source": [
        "np.array_equiv(A_4 , np.identity(4) @ A_4)"
      ],
      "execution_count": null,
      "outputs": [
        {
          "output_type": "execute_result",
          "data": {
            "text/plain": [
              "True"
            ]
          },
          "metadata": {},
          "execution_count": 41
        }
      ]
    },
    {
      "cell_type": "markdown",
      "metadata": {
        "id": "EGTYynpznpBn"
      },
      "source": [
        "$#6$"
      ]
    },
    {
      "cell_type": "code",
      "metadata": {
        "colab": {
          "base_uri": "https://localhost:8080/"
        },
        "id": "sq6KAX2en0X-",
        "outputId": "0f13ba6e-211f-4802-8595-4296611aa3fa"
      },
      "source": [
        "(6) ## A @ ∅ = ∅\n",
        "A_6 = np.array([\n",
        "                [96,97,98,99],\n",
        "                [99,99,99,99],\n",
        "                [100,10000,100000,100000],\n",
        "                [1,2,3,4]\n",
        "])\n",
        "print(A_6.shape)"
      ],
      "execution_count": null,
      "outputs": [
        {
          "output_type": "stream",
          "name": "stdout",
          "text": [
            "(4, 4)\n"
          ]
        }
      ]
    },
    {
      "cell_type": "code",
      "metadata": {
        "colab": {
          "base_uri": "https://localhost:8080/"
        },
        "id": "4d3TjrQ3N6iX",
        "outputId": "f01f5b7d-4055-4fb4-bb0f-714867a47c51"
      },
      "source": [
        "np.zeros(A_6.shape)"
      ],
      "execution_count": null,
      "outputs": [
        {
          "output_type": "execute_result",
          "data": {
            "text/plain": [
              "array([[0., 0., 0., 0.],\n",
              "       [0., 0., 0., 0.],\n",
              "       [0., 0., 0., 0.],\n",
              "       [0., 0., 0., 0.]])"
            ]
          },
          "metadata": {},
          "execution_count": 73
        }
      ]
    },
    {
      "cell_type": "code",
      "metadata": {
        "colab": {
          "base_uri": "https://localhost:8080/"
        },
        "id": "DzNsO3TbM2fr",
        "outputId": "5f3d240b-dc73-4f81-f4c3-5c9eb69c9136"
      },
      "source": [
        "null_mat = np.empty(A_6.shape , dtype=float)\n",
        "null = np.array(null_mat,dtype=float)\n",
        "print(null)"
      ],
      "execution_count": null,
      "outputs": [
        {
          "output_type": "stream",
          "name": "stdout",
          "text": [
            "[[0. 0. 0. 0.]\n",
            " [0. 0. 0. 0.]\n",
            " [0. 0. 0. 0.]\n",
            " [0. 0. 0. 0.]]\n"
          ]
        }
      ]
    },
    {
      "cell_type": "code",
      "metadata": {
        "colab": {
          "base_uri": "https://localhost:8080/"
        },
        "id": "4_M2x2SXLfqk",
        "outputId": "bce28a72-6742-4524-d777-8cf852d6d6e2"
      },
      "source": [
        "A_6.dot(np.zeros(A_6.shape))"
      ],
      "execution_count": null,
      "outputs": [
        {
          "output_type": "execute_result",
          "data": {
            "text/plain": [
              "array([[0., 0., 0., 0.],\n",
              "       [0., 0., 0., 0.],\n",
              "       [0., 0., 0., 0.],\n",
              "       [0., 0., 0., 0.]])"
            ]
          },
          "metadata": {},
          "execution_count": 75
        }
      ]
    },
    {
      "cell_type": "code",
      "metadata": {
        "colab": {
          "base_uri": "https://localhost:8080/"
        },
        "id": "NPYKoAUOMktU",
        "outputId": "c8f2dfd0-08d3-417d-d449-36974bdcd317"
      },
      "source": [
        "np.array_equiv(A @ np.zeros(A_6.shape), null)"
      ],
      "execution_count": null,
      "outputs": [
        {
          "output_type": "execute_result",
          "data": {
            "text/plain": [
              "True"
            ]
          },
          "metadata": {},
          "execution_count": 76
        }
      ]
    },
    {
      "cell_type": "markdown",
      "metadata": {
        "id": "wQTJU-dRJirM"
      },
      "source": [
        "### $CONCLUSION:$\n",
        "\n",
        "Basically, the laboratory experiment's goals were satisfied because we were able to implement the 6 matrix multiplication property. Using the phyton fundamentals that were taught to us in our earlier experiments, we were able to complete prove ,implement and run the 6 matrix properties and its result is as expected.  \n",
        "\n",
        "Matrixes are important not only in mathematics, but also in everyday life. Matrices can also be used to represent real-world data like the world's population or a country's population and many more. They're used to make graphs, generate statistics, and perform scientific investigations and research across a wide range of topics. \n"
      ]
    }
  ]
}